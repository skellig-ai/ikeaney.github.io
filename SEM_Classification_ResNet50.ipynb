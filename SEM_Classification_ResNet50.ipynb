{
  "nbformat": 4,
  "nbformat_minor": 0,
  "metadata": {
    "colab": {
      "name": "SEM Classification - ResNet50",
      "provenance": [],
      "collapsed_sections": [],
      "include_colab_link": true
    },
    "kernelspec": {
      "name": "python3",
      "display_name": "Python 3"
    },
    "accelerator": "GPU"
  },
  "cells": [
    {
      "cell_type": "markdown",
      "metadata": {
        "id": "view-in-github",
        "colab_type": "text"
      },
      "source": [
        "<a href=\"https://colab.research.google.com/github/skellig-ai/ikeaney.github.io/blob/master/SEM_Classification_ResNet50.ipynb\" target=\"_parent\"><img src=\"https://colab.research.google.com/assets/colab-badge.svg\" alt=\"Open In Colab\"/></a>"
      ]
    },
    {
      "cell_type": "markdown",
      "metadata": {
        "id": "GBv_MGs0NzZ9",
        "colab_type": "text"
      },
      "source": [
        "Data here:\n",
        "https://b2share.eudat.eu/records/19cc2afd23e34b92b36a1dfd0113a89f\n",
        "\n",
        "Paper 1:\n",
        "https://www.nature.com/articles/s41598-017-13565-z\n",
        "\n",
        "Paper 2:\n",
        "https://www.nature.com/articles/sdata2018172"
      ]
    },
    {
      "cell_type": "code",
      "metadata": {
        "id": "Jsm1D5rH_urZ",
        "colab_type": "code",
        "colab": {}
      },
      "source": [
        "%reload_ext autoreload\n",
        "%autoreload 2\n",
        "%matplotlib inline\n",
        "\n",
        "from fastai.vision import *"
      ],
      "execution_count": 0,
      "outputs": []
    },
    {
      "cell_type": "markdown",
      "metadata": {
        "id": "FEpRNbY-TAJY",
        "colab_type": "text"
      },
      "source": [
        "# Downloading The Data\n",
        "\n",
        "Run the cells in this section to download the datasets as .tar, extract the image files and move them into their labeled folders."
      ]
    },
    {
      "cell_type": "code",
      "metadata": {
        "id": "thZDAGEbPpwV",
        "colab_type": "code",
        "colab": {}
      },
      "source": [
        "!mkdir data"
      ],
      "execution_count": 0,
      "outputs": []
    },
    {
      "cell_type": "code",
      "metadata": {
        "id": "PA0JbjKk_xgH",
        "colab_type": "code",
        "outputId": "2ffa4c3b-c392-4f3e-c0d3-b313124ffc32",
        "colab": {
          "base_uri": "https://localhost:8080/",
          "height": 204
        }
      },
      "source": [
        "!wget --header=\"Host: b2share.eudat.eu\" --header=\"User-Agent: Mozilla/5.0 (Windows NT 10.0; Win64; x64) AppleWebKit/537.36 (KHTML, like Gecko) Chrome/77.0.3865.120 Safari/537.36\" --header=\"Accept: text/html,application/xhtml+xml,application/xml;q=0.9,image/webp,image/apng,*/*;q=0.8,application/signed-exchange;v=b3\" --header=\"Accept-Language: en-US,en;q=0.9\" --header=\"Referer: https://b2share.eudat.eu/records/19cc2afd23e34b92b36a1dfd0113a89f\" \"https://b2share.eudat.eu/api/files/5fc88ad5-2f13-483c-8b80-a5862c91dbbb/Biological.tar\" -O \"Biological.tar\" -c\n",
        "\n",
        "!tar xf Biological.tar -C data/\n",
        "!rm Biological.tar"
      ],
      "execution_count": 3,
      "outputs": [
        {
          "output_type": "stream",
          "text": [
            "--2020-02-03 14:52:58--  https://b2share.eudat.eu/api/files/5fc88ad5-2f13-483c-8b80-a5862c91dbbb/Biological.tar\n",
            "Resolving b2share.eudat.eu (b2share.eudat.eu)... 86.50.166.74\n",
            "Connecting to b2share.eudat.eu (b2share.eudat.eu)|86.50.166.74|:443... connected.\n",
            "HTTP request sent, awaiting response... 200 OK\n",
            "Length: 700318720 (668M) [application/octet-stream]\n",
            "Saving to: ‘Biological.tar’\n",
            "\n",
            "Biological.tar      100%[===================>] 667.88M  17.2MB/s    in 40s     \n",
            "\n",
            "2020-02-03 14:53:40 (16.6 MB/s) - ‘Biological.tar’ saved [700318720/700318720]\n",
            "\n"
          ],
          "name": "stdout"
        }
      ]
    },
    {
      "cell_type": "code",
      "metadata": {
        "id": "-LAf3qMY_-Vk",
        "colab_type": "code",
        "outputId": "75c51cd4-d865-4cc7-80e0-91ba1a63f797",
        "colab": {
          "base_uri": "https://localhost:8080/",
          "height": 204
        }
      },
      "source": [
        "!wget --header=\"Host: b2share.eudat.eu\" --header=\"User-Agent: Mozilla/5.0 (Windows NT 10.0; Win64; x64) AppleWebKit/537.36 (KHTML, like Gecko) Chrome/77.0.3865.120 Safari/537.36\" --header=\"Accept: text/html,application/xhtml+xml,application/xml;q=0.9,image/webp,image/apng,*/*;q=0.8,application/signed-exchange;v=b3\" --header=\"Accept-Language: en-US,en;q=0.9\" --header=\"Referer: https://b2share.eudat.eu/records/19cc2afd23e34b92b36a1dfd0113a89f\" \"https://b2share.eudat.eu/api/files/5fc88ad5-2f13-483c-8b80-a5862c91dbbb/Fibres.tar\" -O \"Fibres.tar\" -c\n",
        "\n",
        "!tar xf Fibres.tar -C data/\n",
        "!rm Fibres.tar"
      ],
      "execution_count": 4,
      "outputs": [
        {
          "output_type": "stream",
          "text": [
            "--2020-02-03 14:53:45--  https://b2share.eudat.eu/api/files/5fc88ad5-2f13-483c-8b80-a5862c91dbbb/Fibres.tar\n",
            "Resolving b2share.eudat.eu (b2share.eudat.eu)... 86.50.166.74\n",
            "Connecting to b2share.eudat.eu (b2share.eudat.eu)|86.50.166.74|:443... connected.\n",
            "HTTP request sent, awaiting response... 200 OK\n",
            "Length: 83684864 (80M) [application/octet-stream]\n",
            "Saving to: ‘Fibres.tar’\n",
            "\n",
            "Fibres.tar          100%[===================>]  79.81M  17.3MB/s    in 5.7s    \n",
            "\n",
            "2020-02-03 14:53:51 (14.0 MB/s) - ‘Fibres.tar’ saved [83684864/83684864]\n",
            "\n"
          ],
          "name": "stdout"
        }
      ]
    },
    {
      "cell_type": "code",
      "metadata": {
        "id": "zPIibuXRAHzi",
        "colab_type": "code",
        "outputId": "cf4f3b0d-9db5-41c6-fde0-b269e1bfdc4d",
        "colab": {
          "base_uri": "https://localhost:8080/",
          "height": 204
        }
      },
      "source": [
        "!wget --header=\"Host: b2share.eudat.eu\" --header=\"User-Agent: Mozilla/5.0 (Windows NT 10.0; Win64; x64) AppleWebKit/537.36 (KHTML, like Gecko) Chrome/77.0.3865.120 Safari/537.36\" --header=\"Accept: text/html,application/xhtml+xml,application/xml;q=0.9,image/webp,image/apng,*/*;q=0.8,application/signed-exchange;v=b3\" --header=\"Accept-Language: en-US,en;q=0.9\" --header=\"Referer: https://b2share.eudat.eu/records/19cc2afd23e34b92b36a1dfd0113a89f\" \"https://b2share.eudat.eu/api/files/5fc88ad5-2f13-483c-8b80-a5862c91dbbb/Films_Coated_Surface.tar\" -O \"Films_Coated_Surface.tar\" -c\n",
        "\n",
        "!tar xf Films_Coated_Surface.tar -C data/\n",
        "!rm Films_Coated_Surface.tar"
      ],
      "execution_count": 5,
      "outputs": [
        {
          "output_type": "stream",
          "text": [
            "--2020-02-03 14:53:56--  https://b2share.eudat.eu/api/files/5fc88ad5-2f13-483c-8b80-a5862c91dbbb/Films_Coated_Surface.tar\n",
            "Resolving b2share.eudat.eu (b2share.eudat.eu)... 86.50.166.74\n",
            "Connecting to b2share.eudat.eu (b2share.eudat.eu)|86.50.166.74|:443... connected.\n",
            "HTTP request sent, awaiting response... 200 OK\n",
            "Length: 198036480 (189M) [application/octet-stream]\n",
            "Saving to: ‘Films_Coated_Surface.tar’\n",
            "\n",
            "Films_Coated_Surfac 100%[===================>] 188.86M  17.1MB/s    in 12s     \n",
            "\n",
            "2020-02-03 14:54:09 (15.7 MB/s) - ‘Films_Coated_Surface.tar’ saved [198036480/198036480]\n",
            "\n"
          ],
          "name": "stdout"
        }
      ]
    },
    {
      "cell_type": "code",
      "metadata": {
        "id": "fsmwALENAMms",
        "colab_type": "code",
        "outputId": "4f1aabb5-bbb2-4cb1-f181-599b8220e8a2",
        "colab": {
          "base_uri": "https://localhost:8080/",
          "height": 204
        }
      },
      "source": [
        "!wget --header=\"Host: b2share.eudat.eu\" --header=\"User-Agent: Mozilla/5.0 (Windows NT 10.0; Win64; x64) AppleWebKit/537.36 (KHTML, like Gecko) Chrome/77.0.3865.120 Safari/537.36\" --header=\"Accept: text/html,application/xhtml+xml,application/xml;q=0.9,image/webp,image/apng,*/*;q=0.8,application/signed-exchange;v=b3\" --header=\"Accept-Language: en-US,en;q=0.9\" --header=\"Referer: https://b2share.eudat.eu/records/19cc2afd23e34b92b36a1dfd0113a89f\" \"https://b2share.eudat.eu/api/files/5fc88ad5-2f13-483c-8b80-a5862c91dbbb/MEMS_devices_and_electrodes.tar\" -O \"MEMS_devices_and_electrodes.tar\" -c\n",
        "\n",
        "!tar xf MEMS_devices_and_electrodes.tar -C data/\n",
        "!rm MEMS_devices_and_electrodes.tar"
      ],
      "execution_count": 6,
      "outputs": [
        {
          "output_type": "stream",
          "text": [
            "--2020-02-03 14:54:12--  https://b2share.eudat.eu/api/files/5fc88ad5-2f13-483c-8b80-a5862c91dbbb/MEMS_devices_and_electrodes.tar\n",
            "Resolving b2share.eudat.eu (b2share.eudat.eu)... 86.50.166.74\n",
            "Connecting to b2share.eudat.eu (b2share.eudat.eu)|86.50.166.74|:443... connected.\n",
            "HTTP request sent, awaiting response... 200 OK\n",
            "Length: 3062972928 (2.9G) [application/octet-stream]\n",
            "Saving to: ‘MEMS_devices_and_electrodes.tar’\n",
            "\n",
            "MEMS_devices_and_el 100%[===================>]   2.85G  17.5MB/s    in 2m 54s  \n",
            "\n",
            "2020-02-03 14:57:07 (16.8 MB/s) - ‘MEMS_devices_and_electrodes.tar’ saved [3062972928/3062972928]\n",
            "\n"
          ],
          "name": "stdout"
        }
      ]
    },
    {
      "cell_type": "code",
      "metadata": {
        "id": "Avkh8CeNDr-4",
        "colab_type": "code",
        "outputId": "c2625736-f00c-4321-cf9e-68b2057a5465",
        "colab": {
          "base_uri": "https://localhost:8080/",
          "height": 204
        }
      },
      "source": [
        "!wget --header=\"Host: b2share.eudat.eu\" --header=\"User-Agent: Mozilla/5.0 (Windows NT 10.0; Win64; x64) AppleWebKit/537.36 (KHTML, like Gecko) Chrome/78.0.3904.87 Safari/537.36\" --header=\"Accept: text/html,application/xhtml+xml,application/xml;q=0.9,image/webp,image/apng,*/*;q=0.8,application/signed-exchange;v=b3\" --header=\"Accept-Language: en-US,en;q=0.9\" --header=\"Referer: https://b2share.eudat.eu/records/19cc2afd23e34b92b36a1dfd0113a89f\" \"https://b2share.eudat.eu/api/files/5fc88ad5-2f13-483c-8b80-a5862c91dbbb/Nanowires.tar\" -O \"Nanowires.tar\" -c\n",
        "\n",
        "!tar xf Nanowires.tar -C data/\n",
        "!rm Nanowires.tar"
      ],
      "execution_count": 7,
      "outputs": [
        {
          "output_type": "stream",
          "text": [
            "--2020-02-03 14:57:59--  https://b2share.eudat.eu/api/files/5fc88ad5-2f13-483c-8b80-a5862c91dbbb/Nanowires.tar\n",
            "Resolving b2share.eudat.eu (b2share.eudat.eu)... 86.50.166.74\n",
            "Connecting to b2share.eudat.eu (b2share.eudat.eu)|86.50.166.74|:443... connected.\n",
            "HTTP request sent, awaiting response... 200 OK\n",
            "Length: 2122462720 (2.0G) [application/octet-stream]\n",
            "Saving to: ‘Nanowires.tar’\n",
            "\n",
            "Nanowires.tar       100%[===================>]   1.98G  17.2MB/s    in 2m 0s   \n",
            "\n",
            "2020-02-03 15:00:00 (16.8 MB/s) - ‘Nanowires.tar’ saved [2122462720/2122462720]\n",
            "\n"
          ],
          "name": "stdout"
        }
      ]
    },
    {
      "cell_type": "code",
      "metadata": {
        "id": "6V7oFe6IDsKx",
        "colab_type": "code",
        "outputId": "5e1c694b-a082-4a70-97d6-df494bb5fc3d",
        "colab": {
          "base_uri": "https://localhost:8080/",
          "height": 204
        }
      },
      "source": [
        "!wget --header=\"Host: b2share.eudat.eu\" --header=\"User-Agent: Mozilla/5.0 (Windows NT 10.0; Win64; x64) AppleWebKit/537.36 (KHTML, like Gecko) Chrome/78.0.3904.87 Safari/537.36\" --header=\"Accept: text/html,application/xhtml+xml,application/xml;q=0.9,image/webp,image/apng,*/*;q=0.8,application/signed-exchange;v=b3\" --header=\"Accept-Language: en-US,en;q=0.9\" --header=\"Referer: https://b2share.eudat.eu/records/19cc2afd23e34b92b36a1dfd0113a89f\" \"https://b2share.eudat.eu/api/files/5fc88ad5-2f13-483c-8b80-a5862c91dbbb/Particles.tar\" -O \"Particles.tar\" -c\n",
        "\n",
        "!tar xf Particles.tar -C data/\n",
        "!rm Particles.tar"
      ],
      "execution_count": 8,
      "outputs": [
        {
          "output_type": "stream",
          "text": [
            "--2020-02-03 15:00:29--  https://b2share.eudat.eu/api/files/5fc88ad5-2f13-483c-8b80-a5862c91dbbb/Particles.tar\n",
            "Resolving b2share.eudat.eu (b2share.eudat.eu)... 86.50.166.74\n",
            "Connecting to b2share.eudat.eu (b2share.eudat.eu)|86.50.166.74|:443... connected.\n",
            "HTTP request sent, awaiting response... 200 OK\n",
            "Length: 2268709376 (2.1G) [application/octet-stream]\n",
            "Saving to: ‘Particles.tar’\n",
            "\n",
            "Particles.tar       100%[===================>]   2.11G  17.0MB/s    in 2m 13s  \n",
            "\n",
            "2020-02-03 15:02:43 (16.2 MB/s) - ‘Particles.tar’ saved [2268709376/2268709376]\n",
            "\n"
          ],
          "name": "stdout"
        }
      ]
    },
    {
      "cell_type": "code",
      "metadata": {
        "id": "r-nywp77AcNx",
        "colab_type": "code",
        "outputId": "0b48acb8-4aba-4eeb-c4b5-264d0b27e173",
        "colab": {
          "base_uri": "https://localhost:8080/",
          "height": 204
        }
      },
      "source": [
        "!wget --header=\"Host: b2share.eudat.eu\" --header=\"User-Agent: Mozilla/5.0 (Windows NT 10.0; Win64; x64) AppleWebKit/537.36 (KHTML, like Gecko) Chrome/78.0.3904.87 Safari/537.36\" --header=\"Accept: text/html,application/xhtml+xml,application/xml;q=0.9,image/webp,image/apng,*/*;q=0.8,application/signed-exchange;v=b3\" --header=\"Accept-Language: en-US,en;q=0.9\" --header=\"Referer: https://b2share.eudat.eu/records/19cc2afd23e34b92b36a1dfd0113a89f\" \"https://b2share.eudat.eu/api/files/5fc88ad5-2f13-483c-8b80-a5862c91dbbb/Patterned_surface.tar\" -O \"Patterned_surface.tar\" -c\n",
        "\n",
        "!tar xf Patterned_surface.tar -C data/\n",
        "!rm Patterned_surface.tar"
      ],
      "execution_count": 9,
      "outputs": [
        {
          "output_type": "stream",
          "text": [
            "--2020-02-03 15:03:17--  https://b2share.eudat.eu/api/files/5fc88ad5-2f13-483c-8b80-a5862c91dbbb/Patterned_surface.tar\n",
            "Resolving b2share.eudat.eu (b2share.eudat.eu)... 86.50.166.74\n",
            "Connecting to b2share.eudat.eu (b2share.eudat.eu)|86.50.166.74|:443... connected.\n",
            "HTTP request sent, awaiting response... 200 OK\n",
            "Length: 2014669824 (1.9G) [application/octet-stream]\n",
            "Saving to: ‘Patterned_surface.tar’\n",
            "\n",
            "Patterned_surface.t 100%[===================>]   1.88G  5.04MB/s    in 4m 25s  \n",
            "\n",
            "2020-02-03 15:07:43 (7.24 MB/s) - ‘Patterned_surface.tar’ saved [2014669824/2014669824]\n",
            "\n"
          ],
          "name": "stdout"
        }
      ]
    },
    {
      "cell_type": "code",
      "metadata": {
        "id": "gTQBptgnDXwT",
        "colab_type": "code",
        "outputId": "4dc93e30-64b0-4714-d147-63edb208dc86",
        "colab": {
          "base_uri": "https://localhost:8080/",
          "height": 204
        }
      },
      "source": [
        "!wget --header=\"Host: b2share.eudat.eu\" --header=\"User-Agent: Mozilla/5.0 (Windows NT 10.0; Win64; x64) AppleWebKit/537.36 (KHTML, like Gecko) Chrome/78.0.3904.87 Safari/537.36\" --header=\"Accept: text/html,application/xhtml+xml,application/xml;q=0.9,image/webp,image/apng,*/*;q=0.8,application/signed-exchange;v=b3\" --header=\"Accept-Language: en-US,en;q=0.9\" --header=\"Referer: https://b2share.eudat.eu/records/19cc2afd23e34b92b36a1dfd0113a89f\" \"https://b2share.eudat.eu/api/files/5fc88ad5-2f13-483c-8b80-a5862c91dbbb/Porous_Sponge.tar\" -O \"Porous_Sponge.tar\" -c\n",
        "\n",
        "!tar xf Porous_Sponge.tar -C data/\n",
        "!rm Porous_Sponge.tar"
      ],
      "execution_count": 10,
      "outputs": [
        {
          "output_type": "stream",
          "text": [
            "--2020-02-03 15:08:04--  https://b2share.eudat.eu/api/files/5fc88ad5-2f13-483c-8b80-a5862c91dbbb/Porous_Sponge.tar\n",
            "Resolving b2share.eudat.eu (b2share.eudat.eu)... 86.50.166.74\n",
            "Connecting to b2share.eudat.eu (b2share.eudat.eu)|86.50.166.74|:443... connected.\n",
            "HTTP request sent, awaiting response... 200 OK\n",
            "Length: 118782976 (113M) [application/octet-stream]\n",
            "Saving to: ‘Porous_Sponge.tar’\n",
            "\n",
            "Porous_Sponge.tar   100%[===================>] 113.28M  7.55MB/s    in 21s     \n",
            "\n",
            "2020-02-03 15:08:26 (5.45 MB/s) - ‘Porous_Sponge.tar’ saved [118782976/118782976]\n",
            "\n"
          ],
          "name": "stdout"
        }
      ]
    },
    {
      "cell_type": "code",
      "metadata": {
        "id": "uWOx9MUJD6dj",
        "colab_type": "code",
        "outputId": "19a3796e-7586-45bf-c198-345b1ab752e4",
        "colab": {
          "base_uri": "https://localhost:8080/",
          "height": 204
        }
      },
      "source": [
        "!wget --header=\"Host: b2share.eudat.eu\" --header=\"User-Agent: Mozilla/5.0 (Windows NT 10.0; Win64; x64) AppleWebKit/537.36 (KHTML, like Gecko) Chrome/78.0.3904.87 Safari/537.36\" --header=\"Accept: text/html,application/xhtml+xml,application/xml;q=0.9,image/webp,image/apng,*/*;q=0.8,application/signed-exchange;v=b3\" --header=\"Accept-Language: en-US,en;q=0.9\" --header=\"Referer: https://b2share.eudat.eu/records/19cc2afd23e34b92b36a1dfd0113a89f\" \"https://b2share.eudat.eu/api/files/5fc88ad5-2f13-483c-8b80-a5862c91dbbb/Powder.tar\" -O \"Powder.tar\" -c\n",
        "\n",
        "!tar xf Powder.tar -C data/\n",
        "!rm Powder.tar"
      ],
      "execution_count": 11,
      "outputs": [
        {
          "output_type": "stream",
          "text": [
            "--2020-02-03 15:08:30--  https://b2share.eudat.eu/api/files/5fc88ad5-2f13-483c-8b80-a5862c91dbbb/Powder.tar\n",
            "Resolving b2share.eudat.eu (b2share.eudat.eu)... 86.50.166.74\n",
            "Connecting to b2share.eudat.eu (b2share.eudat.eu)|86.50.166.74|:443... connected.\n",
            "HTTP request sent, awaiting response... 200 OK\n",
            "Length: 855590400 (816M) [application/octet-stream]\n",
            "Saving to: ‘Powder.tar’\n",
            "\n",
            "Powder.tar          100%[===================>] 815.95M  17.2MB/s    in 60s     \n",
            "\n",
            "2020-02-03 15:09:31 (13.7 MB/s) - ‘Powder.tar’ saved [855590400/855590400]\n",
            "\n"
          ],
          "name": "stdout"
        }
      ]
    },
    {
      "cell_type": "code",
      "metadata": {
        "id": "zhh08xI2EHLO",
        "colab_type": "code",
        "outputId": "25ec8ea0-a693-4447-b5f3-a07c4ccef1df",
        "colab": {
          "base_uri": "https://localhost:8080/",
          "height": 204
        }
      },
      "source": [
        "!wget --header=\"Host: b2share.eudat.eu\" --header=\"User-Agent: Mozilla/5.0 (Windows NT 10.0; Win64; x64) AppleWebKit/537.36 (KHTML, like Gecko) Chrome/78.0.3904.87 Safari/537.36\" --header=\"Accept: text/html,application/xhtml+xml,application/xml;q=0.9,image/webp,image/apng,*/*;q=0.8,application/signed-exchange;v=b3\" --header=\"Accept-Language: en-US,en;q=0.9\" --header=\"Referer: https://b2share.eudat.eu/records/19cc2afd23e34b92b36a1dfd0113a89f\" \"https://b2share.eudat.eu/api/files/5fc88ad5-2f13-483c-8b80-a5862c91dbbb/Tips.tar\" -O \"Tips.tar\" -c\n",
        "\n",
        "!tar xf Tips.tar -C data/\n",
        "!rm Tips.tar"
      ],
      "execution_count": 12,
      "outputs": [
        {
          "output_type": "stream",
          "text": [
            "--2020-02-03 15:09:36--  https://b2share.eudat.eu/api/files/5fc88ad5-2f13-483c-8b80-a5862c91dbbb/Tips.tar\n",
            "Resolving b2share.eudat.eu (b2share.eudat.eu)... 86.50.166.74\n",
            "Connecting to b2share.eudat.eu (b2share.eudat.eu)|86.50.166.74|:443... connected.\n",
            "HTTP request sent, awaiting response... 200 OK\n",
            "Length: 677133824 (646M) [application/octet-stream]\n",
            "Saving to: ‘Tips.tar’\n",
            "\n",
            "Tips.tar            100%[===================>] 645.76M  17.0MB/s    in 49s     \n",
            "\n",
            "2020-02-03 15:10:26 (13.3 MB/s) - ‘Tips.tar’ saved [677133824/677133824]\n",
            "\n"
          ],
          "name": "stdout"
        }
      ]
    },
    {
      "cell_type": "markdown",
      "metadata": {
        "id": "9VaP0dMdTisK",
        "colab_type": "text"
      },
      "source": [
        "# Creating a Dataset"
      ]
    },
    {
      "cell_type": "code",
      "metadata": {
        "id": "aFmkorbtYFPI",
        "colab_type": "code",
        "colab": {}
      },
      "source": [
        "path = Path('data')"
      ],
      "execution_count": 0,
      "outputs": []
    },
    {
      "cell_type": "code",
      "metadata": {
        "id": "q6lqMFzDt2qV",
        "colab_type": "code",
        "colab": {}
      },
      "source": [
        "size = 64"
      ],
      "execution_count": 0,
      "outputs": []
    },
    {
      "cell_type": "code",
      "metadata": {
        "id": "ij7jFlatuIU7",
        "colab_type": "code",
        "colab": {}
      },
      "source": [
        "tfms = get_transforms(flip_vert=True, max_warp=0)"
      ],
      "execution_count": 0,
      "outputs": []
    },
    {
      "cell_type": "code",
      "metadata": {
        "id": "uUVPIKHUXMCB",
        "colab_type": "code",
        "colab": {}
      },
      "source": [
        "src = (ImageList.from_folder(path)\n",
        "                .split_by_rand_pct(0.2)\n",
        "                .label_from_folder())"
      ],
      "execution_count": 0,
      "outputs": []
    },
    {
      "cell_type": "code",
      "metadata": {
        "id": "MzHns4rcYNkS",
        "colab_type": "code",
        "colab": {}
      },
      "source": [
        "data = (src\n",
        "        .transform(tfms, size=size)\n",
        "        .databunch()\n",
        "        .normalize(imagenet_stats))"
      ],
      "execution_count": 0,
      "outputs": []
    },
    {
      "cell_type": "code",
      "metadata": {
        "id": "rF6BeSBKx3SS",
        "colab_type": "code",
        "outputId": "15ef01ec-706c-4986-82a1-b3b9ad7bc8b9",
        "colab": {
          "base_uri": "https://localhost:8080/",
          "height": 657
        }
      },
      "source": [
        "data.show_batch(rows=3, figsize=(12,9))"
      ],
      "execution_count": 18,
      "outputs": [
        {
          "output_type": "display_data",
          "data": {
            "image/png": "[encoded data removed]",
            "text/plain": [
              "<Figure size 864x648 with 9 Axes>"
            ]
          },
          "metadata": {
            "tags": []
          }
        }
      ]
    },
    {
      "cell_type": "code",
      "metadata": {
        "id": "Sy5gJzELXaNS",
        "colab_type": "code",
        "outputId": "a2a875e0-df40-4814-c4a6-eb8a07ef8df1",
        "colab": {
          "base_uri": "https://localhost:8080/",
          "height": 51
        }
      },
      "source": [
        "learn = cnn_learner(data, models.resnet50, metrics=[accuracy, error_rate, Recall(), Precision()])"
      ],
      "execution_count": 19,
      "outputs": [
        {
          "output_type": "stream",
          "text": [
            "Downloading: \"https://download.pytorch.org/models/resnet50-19c8e357.pth\" to /root/.cache/torch/checkpoints/resnet50-19c8e357.pth\n",
            "100%|██████████| 97.8M/97.8M [00:03<00:00, 25.9MB/s]\n"
          ],
          "name": "stderr"
        }
      ]
    },
    {
      "cell_type": "code",
      "metadata": {
        "id": "EfZG_KGRtUNe",
        "colab_type": "code",
        "outputId": "a14b4d77-a4f4-4cd4-94e1-6ef1927a89cb",
        "colab": {
          "base_uri": "https://localhost:8080/",
          "height": 374
        }
      },
      "source": [
        "learn.lr_find()\n",
        "learn.recorder.plot()"
      ],
      "execution_count": 20,
      "outputs": [
        {
          "output_type": "display_data",
          "data": {
            "text/html": [
              "\n",
              "    <div>\n",
              "        <style>\n",
              "            /* Turns off some styling */\n",
              "            progress {\n",
              "                /* gets rid of default border in Firefox and Opera. */\n",
              "                border: none;\n",
              "                /* Needs to be in here for Safari polyfill so background images work as expected. */\n",
              "                background-size: auto;\n",
              "            }\n",
              "            .progress-bar-interrupted, .progress-bar-interrupted::-webkit-progress-bar {\n",
              "                background: #F44336;\n",
              "            }\n",
              "        </style>\n",
              "      <progress value='0' class='' max='1', style='width:300px; height:20px; vertical-align: middle;'></progress>\n",
              "      0.00% [0/1 00:00<00:00]\n",
              "    </div>\n",
              "    \n",
              "<table border=\"1\" class=\"dataframe\">\n",
              "  <thead>\n",
              "    <tr style=\"text-align: left;\">\n",
              "      <th>epoch</th>\n",
              "      <th>train_loss</th>\n",
              "      <th>valid_loss</th>\n",
              "      <th>accuracy</th>\n",
              "      <th>error_rate</th>\n",
              "      <th>recall</th>\n",
              "      <th>precision</th>\n",
              "      <th>time</th>\n",
              "    </tr>\n",
              "  </thead>\n",
              "  <tbody>\n",
              "  </tbody>\n",
              "</table><p>\n",
              "\n",
              "    <div>\n",
              "        <style>\n",
              "            /* Turns off some styling */\n",
              "            progress {\n",
              "                /* gets rid of default border in Firefox and Opera. */\n",
              "                border: none;\n",
              "                /* Needs to be in here for Safari polyfill so background images work as expected. */\n",
              "                background-size: auto;\n",
              "            }\n",
              "            .progress-bar-interrupted, .progress-bar-interrupted::-webkit-progress-bar {\n",
              "                background: #F44336;\n",
              "            }\n",
              "        </style>\n",
              "      <progress value='90' class='' max='232', style='width:300px; height:20px; vertical-align: middle;'></progress>\n",
              "      38.79% [90/232 02:19<03:40 9.8941]\n",
              "    </div>\n",
              "    "
            ],
            "text/plain": [
              "<IPython.core.display.HTML object>"
            ]
          },
          "metadata": {
            "tags": []
          }
        },
        {
          "output_type": "stream",
          "text": [
            "LR Finder is complete, type {learner_name}.recorder.plot() to see the graph.\n"
          ],
          "name": "stdout"
        },
        {
          "output_type": "display_data",
          "data": {
            "image/png": "[encoded data removed]",
            "text/plain": [
              "<Figure size 432x288 with 1 Axes>"
            ]
          },
          "metadata": {
            "tags": []
          }
        }
      ]
    },
    {
      "cell_type": "code",
      "metadata": {
        "id": "SFWYbNItYmOa",
        "colab_type": "code",
        "outputId": "e07f3e8e-71e4-42d2-bcb9-9d98237e8ac5",
        "colab": {
          "base_uri": "https://localhost:8080/",
          "height": 413
        }
      },
      "source": [
        "learn.fit_one_cycle(10, 5e-3)"
      ],
      "execution_count": 22,
      "outputs": [
        {
          "output_type": "display_data",
          "data": {
            "text/html": [
              "<table border=\"1\" class=\"dataframe\">\n",
              "  <thead>\n",
              "    <tr style=\"text-align: left;\">\n",
              "      <th>epoch</th>\n",
              "      <th>train_loss</th>\n",
              "      <th>valid_loss</th>\n",
              "      <th>accuracy</th>\n",
              "      <th>error_rate</th>\n",
              "      <th>recall</th>\n",
              "      <th>precision</th>\n",
              "      <th>time</th>\n",
              "    </tr>\n",
              "  </thead>\n",
              "  <tbody>\n",
              "    <tr>\n",
              "      <td>0</td>\n",
              "      <td>1.063756</td>\n",
              "      <td>0.690926</td>\n",
              "      <td>0.785195</td>\n",
              "      <td>0.214805</td>\n",
              "      <td>0.646844</td>\n",
              "      <td>0.735830</td>\n",
              "      <td>07:31</td>\n",
              "    </tr>\n",
              "    <tr>\n",
              "      <td>1</td>\n",
              "      <td>0.779987</td>\n",
              "      <td>0.585806</td>\n",
              "      <td>0.810498</td>\n",
              "      <td>0.189502</td>\n",
              "      <td>0.703692</td>\n",
              "      <td>0.742788</td>\n",
              "      <td>07:35</td>\n",
              "    </tr>\n",
              "    <tr>\n",
              "      <td>2</td>\n",
              "      <td>0.735808</td>\n",
              "      <td>0.583903</td>\n",
              "      <td>0.799192</td>\n",
              "      <td>0.200808</td>\n",
              "      <td>0.586240</td>\n",
              "      <td>0.796214</td>\n",
              "      <td>07:37</td>\n",
              "    </tr>\n",
              "    <tr>\n",
              "      <td>3</td>\n",
              "      <td>0.683895</td>\n",
              "      <td>0.570943</td>\n",
              "      <td>0.809152</td>\n",
              "      <td>0.190848</td>\n",
              "      <td>0.691318</td>\n",
              "      <td>0.769412</td>\n",
              "      <td>07:40</td>\n",
              "    </tr>\n",
              "    <tr>\n",
              "      <td>4</td>\n",
              "      <td>0.600178</td>\n",
              "      <td>0.549625</td>\n",
              "      <td>0.815074</td>\n",
              "      <td>0.184926</td>\n",
              "      <td>0.692932</td>\n",
              "      <td>0.789782</td>\n",
              "      <td>07:39</td>\n",
              "    </tr>\n",
              "    <tr>\n",
              "      <td>5</td>\n",
              "      <td>0.552490</td>\n",
              "      <td>0.483074</td>\n",
              "      <td>0.836608</td>\n",
              "      <td>0.163392</td>\n",
              "      <td>0.717800</td>\n",
              "      <td>0.835184</td>\n",
              "      <td>07:36</td>\n",
              "    </tr>\n",
              "    <tr>\n",
              "      <td>6</td>\n",
              "      <td>0.500228</td>\n",
              "      <td>0.414365</td>\n",
              "      <td>0.855451</td>\n",
              "      <td>0.144549</td>\n",
              "      <td>0.762656</td>\n",
              "      <td>0.797739</td>\n",
              "      <td>07:38</td>\n",
              "    </tr>\n",
              "    <tr>\n",
              "      <td>7</td>\n",
              "      <td>0.430849</td>\n",
              "      <td>0.369087</td>\n",
              "      <td>0.875370</td>\n",
              "      <td>0.124630</td>\n",
              "      <td>0.773794</td>\n",
              "      <td>0.855004</td>\n",
              "      <td>07:39</td>\n",
              "    </tr>\n",
              "    <tr>\n",
              "      <td>8</td>\n",
              "      <td>0.376345</td>\n",
              "      <td>0.348041</td>\n",
              "      <td>0.880485</td>\n",
              "      <td>0.119515</td>\n",
              "      <td>0.797413</td>\n",
              "      <td>0.835203</td>\n",
              "      <td>07:41</td>\n",
              "    </tr>\n",
              "    <tr>\n",
              "      <td>9</td>\n",
              "      <td>0.376198</td>\n",
              "      <td>0.346004</td>\n",
              "      <td>0.879139</td>\n",
              "      <td>0.120861</td>\n",
              "      <td>0.810138</td>\n",
              "      <td>0.824521</td>\n",
              "      <td>07:38</td>\n",
              "    </tr>\n",
              "  </tbody>\n",
              "</table>"
            ],
            "text/plain": [
              "<IPython.core.display.HTML object>"
            ]
          },
          "metadata": {
            "tags": []
          }
        },
        {
          "output_type": "stream",
          "text": [
            "/usr/local/lib/python3.6/dist-packages/fastai/metrics.py:191: UserWarning: average=`binary` was selected for a non binary case. Value for average has now been set to `macro` instead.\n",
            "  warn(\"average=`binary` was selected for a non binary case. Value for average has now been set to `macro` instead.\")\n"
          ],
          "name": "stderr"
        }
      ]
    },
    {
      "cell_type": "code",
      "metadata": {
        "id": "2yWmnGsXwLZq",
        "colab_type": "code",
        "outputId": "05746eaf-d8dc-4923-ae23-16e1301ae4cc",
        "colab": {
          "base_uri": "https://localhost:8080/",
          "height": 374
        }
      },
      "source": [
        "learn.unfreeze\n",
        "learn.lr_find()\n",
        "learn.recorder.plot()"
      ],
      "execution_count": 23,
      "outputs": [
        {
          "output_type": "display_data",
          "data": {
            "text/html": [
              "\n",
              "    <div>\n",
              "        <style>\n",
              "            /* Turns off some styling */\n",
              "            progress {\n",
              "                /* gets rid of default border in Firefox and Opera. */\n",
              "                border: none;\n",
              "                /* Needs to be in here for Safari polyfill so background images work as expected. */\n",
              "                background-size: auto;\n",
              "            }\n",
              "            .progress-bar-interrupted, .progress-bar-interrupted::-webkit-progress-bar {\n",
              "                background: #F44336;\n",
              "            }\n",
              "        </style>\n",
              "      <progress value='0' class='' max='1', style='width:300px; height:20px; vertical-align: middle;'></progress>\n",
              "      0.00% [0/1 00:00<00:00]\n",
              "    </div>\n",
              "    \n",
              "<table border=\"1\" class=\"dataframe\">\n",
              "  <thead>\n",
              "    <tr style=\"text-align: left;\">\n",
              "      <th>epoch</th>\n",
              "      <th>train_loss</th>\n",
              "      <th>valid_loss</th>\n",
              "      <th>accuracy</th>\n",
              "      <th>error_rate</th>\n",
              "      <th>recall</th>\n",
              "      <th>precision</th>\n",
              "      <th>time</th>\n",
              "    </tr>\n",
              "  </thead>\n",
              "  <tbody>\n",
              "  </tbody>\n",
              "</table><p>\n",
              "\n",
              "    <div>\n",
              "        <style>\n",
              "            /* Turns off some styling */\n",
              "            progress {\n",
              "                /* gets rid of default border in Firefox and Opera. */\n",
              "                border: none;\n",
              "                /* Needs to be in here for Safari polyfill so background images work as expected. */\n",
              "                background-size: auto;\n",
              "            }\n",
              "            .progress-bar-interrupted, .progress-bar-interrupted::-webkit-progress-bar {\n",
              "                background: #F44336;\n",
              "            }\n",
              "        </style>\n",
              "      <progress value='82' class='' max='232', style='width:300px; height:20px; vertical-align: middle;'></progress>\n",
              "      35.34% [82/232 02:09<03:56 1.1409]\n",
              "    </div>\n",
              "    "
            ],
            "text/plain": [
              "<IPython.core.display.HTML object>"
            ]
          },
          "metadata": {
            "tags": []
          }
        },
        {
          "output_type": "stream",
          "text": [
            "LR Finder is complete, type {learner_name}.recorder.plot() to see the graph.\n"
          ],
          "name": "stdout"
        },
        {
          "output_type": "display_data",
          "data": {
            "image/png": "[encoded data removed]",
            "text/plain": [
              "<Figure size 432x288 with 1 Axes>"
            ]
          },
          "metadata": {
            "tags": []
          }
        }
      ]
    },
    {
      "cell_type": "code",
      "metadata": {
        "id": "zh1hk1LNJ140",
        "colab_type": "code",
        "outputId": "828a6a7a-a524-4468-aa56-8255b06a7275",
        "colab": {
          "base_uri": "https://localhost:8080/",
          "height": 204
        }
      },
      "source": [
        "learn.fit_one_cycle(5, 1e-3)"
      ],
      "execution_count": 24,
      "outputs": [
        {
          "output_type": "display_data",
          "data": {
            "text/html": [
              "<table border=\"1\" class=\"dataframe\">\n",
              "  <thead>\n",
              "    <tr style=\"text-align: left;\">\n",
              "      <th>epoch</th>\n",
              "      <th>train_loss</th>\n",
              "      <th>valid_loss</th>\n",
              "      <th>accuracy</th>\n",
              "      <th>error_rate</th>\n",
              "      <th>recall</th>\n",
              "      <th>precision</th>\n",
              "      <th>time</th>\n",
              "    </tr>\n",
              "  </thead>\n",
              "  <tbody>\n",
              "    <tr>\n",
              "      <td>0</td>\n",
              "      <td>0.382022</td>\n",
              "      <td>0.350059</td>\n",
              "      <td>0.882369</td>\n",
              "      <td>0.117631</td>\n",
              "      <td>0.791650</td>\n",
              "      <td>0.852958</td>\n",
              "      <td>07:33</td>\n",
              "    </tr>\n",
              "    <tr>\n",
              "      <td>1</td>\n",
              "      <td>0.396068</td>\n",
              "      <td>0.348157</td>\n",
              "      <td>0.883446</td>\n",
              "      <td>0.116555</td>\n",
              "      <td>0.803376</td>\n",
              "      <td>0.860515</td>\n",
              "      <td>07:35</td>\n",
              "    </tr>\n",
              "    <tr>\n",
              "      <td>2</td>\n",
              "      <td>0.389251</td>\n",
              "      <td>0.338250</td>\n",
              "      <td>0.882907</td>\n",
              "      <td>0.117093</td>\n",
              "      <td>0.819925</td>\n",
              "      <td>0.835051</td>\n",
              "      <td>07:41</td>\n",
              "    </tr>\n",
              "    <tr>\n",
              "      <td>3</td>\n",
              "      <td>0.353774</td>\n",
              "      <td>0.329333</td>\n",
              "      <td>0.886676</td>\n",
              "      <td>0.113324</td>\n",
              "      <td>0.819156</td>\n",
              "      <td>0.851873</td>\n",
              "      <td>07:40</td>\n",
              "    </tr>\n",
              "    <tr>\n",
              "      <td>4</td>\n",
              "      <td>0.327892</td>\n",
              "      <td>0.327636</td>\n",
              "      <td>0.886945</td>\n",
              "      <td>0.113055</td>\n",
              "      <td>0.806346</td>\n",
              "      <td>0.859412</td>\n",
              "      <td>07:41</td>\n",
              "    </tr>\n",
              "  </tbody>\n",
              "</table>"
            ],
            "text/plain": [
              "<IPython.core.display.HTML object>"
            ]
          },
          "metadata": {
            "tags": []
          }
        }
      ]
    },
    {
      "cell_type": "code",
      "metadata": {
        "id": "waekG0veSJDl",
        "colab_type": "code",
        "colab": {}
      },
      "source": [
        "learn.save('64sz')"
      ],
      "execution_count": 0,
      "outputs": []
    },
    {
      "cell_type": "markdown",
      "metadata": {
        "id": "chIyx98m1fPO",
        "colab_type": "text"
      },
      "source": [
        "# Increasing the image size to 128 pixels"
      ]
    },
    {
      "cell_type": "code",
      "metadata": {
        "id": "oTgCPH127ZqG",
        "colab_type": "code",
        "colab": {}
      },
      "source": [
        "size = 128"
      ],
      "execution_count": 0,
      "outputs": []
    },
    {
      "cell_type": "code",
      "metadata": {
        "id": "J0GvUdx77kkc",
        "colab_type": "code",
        "colab": {
          "base_uri": "https://localhost:8080/",
          "height": 34
        },
        "outputId": "abc1265c-c5bd-4da8-bd9a-506825676575"
      },
      "source": [
        "data = (src\n",
        "        .transform(tfms, size=size)\n",
        "        .databunch()\n",
        "        .normalize(imagenet_stats))\n",
        "\n",
        "learn.data = data\n",
        "data.train_ds[0][0].shape"
      ],
      "execution_count": 27,
      "outputs": [
        {
          "output_type": "execute_result",
          "data": {
            "text/plain": [
              "torch.Size([3, 128, 128])"
            ]
          },
          "metadata": {
            "tags": []
          },
          "execution_count": 27
        }
      ]
    },
    {
      "cell_type": "code",
      "metadata": {
        "id": "p30HL2ShAZNz",
        "colab_type": "code",
        "outputId": "414dcb93-b6ee-45b5-d15c-0ff9ed988518",
        "colab": {
          "base_uri": "https://localhost:8080/",
          "height": 374
        }
      },
      "source": [
        "learn.freeze\n",
        "learn.lr_find()\n",
        "learn.recorder.plot()"
      ],
      "execution_count": 28,
      "outputs": [
        {
          "output_type": "display_data",
          "data": {
            "text/html": [
              "\n",
              "    <div>\n",
              "        <style>\n",
              "            /* Turns off some styling */\n",
              "            progress {\n",
              "                /* gets rid of default border in Firefox and Opera. */\n",
              "                border: none;\n",
              "                /* Needs to be in here for Safari polyfill so background images work as expected. */\n",
              "                background-size: auto;\n",
              "            }\n",
              "            .progress-bar-interrupted, .progress-bar-interrupted::-webkit-progress-bar {\n",
              "                background: #F44336;\n",
              "            }\n",
              "        </style>\n",
              "      <progress value='0' class='' max='1', style='width:300px; height:20px; vertical-align: middle;'></progress>\n",
              "      0.00% [0/1 00:00<00:00]\n",
              "    </div>\n",
              "    \n",
              "<table border=\"1\" class=\"dataframe\">\n",
              "  <thead>\n",
              "    <tr style=\"text-align: left;\">\n",
              "      <th>epoch</th>\n",
              "      <th>train_loss</th>\n",
              "      <th>valid_loss</th>\n",
              "      <th>accuracy</th>\n",
              "      <th>error_rate</th>\n",
              "      <th>recall</th>\n",
              "      <th>precision</th>\n",
              "      <th>time</th>\n",
              "    </tr>\n",
              "  </thead>\n",
              "  <tbody>\n",
              "  </tbody>\n",
              "</table><p>\n",
              "\n",
              "    <div>\n",
              "        <style>\n",
              "            /* Turns off some styling */\n",
              "            progress {\n",
              "                /* gets rid of default border in Firefox and Opera. */\n",
              "                border: none;\n",
              "                /* Needs to be in here for Safari polyfill so background images work as expected. */\n",
              "                background-size: auto;\n",
              "            }\n",
              "            .progress-bar-interrupted, .progress-bar-interrupted::-webkit-progress-bar {\n",
              "                background: #F44336;\n",
              "            }\n",
              "        </style>\n",
              "      <progress value='83' class='' max='232', style='width:300px; height:20px; vertical-align: middle;'></progress>\n",
              "      35.78% [83/232 02:33<04:34 1.3493]\n",
              "    </div>\n",
              "    "
            ],
            "text/plain": [
              "<IPython.core.display.HTML object>"
            ]
          },
          "metadata": {
            "tags": []
          }
        },
        {
          "output_type": "stream",
          "text": [
            "LR Finder is complete, type {learner_name}.recorder.plot() to see the graph.\n"
          ],
          "name": "stdout"
        },
        {
          "output_type": "display_data",
          "data": {
            "image/png": "[encoded data removed]",
            "text/plain": [
              "<Figure size 432x288 with 1 Axes>"
            ]
          },
          "metadata": {
            "tags": []
          }
        }
      ]
    },
    {
      "cell_type": "code",
      "metadata": {
        "id": "JvvWWygr8KNM",
        "colab_type": "code",
        "outputId": "6db383c3-b871-40e6-dfea-90b4a74bf701",
        "colab": {
          "base_uri": "https://localhost:8080/",
          "height": 359
        }
      },
      "source": [
        "learn.fit_one_cycle(10,1e-3)"
      ],
      "execution_count": 29,
      "outputs": [
        {
          "output_type": "display_data",
          "data": {
            "text/html": [
              "<table border=\"1\" class=\"dataframe\">\n",
              "  <thead>\n",
              "    <tr style=\"text-align: left;\">\n",
              "      <th>epoch</th>\n",
              "      <th>train_loss</th>\n",
              "      <th>valid_loss</th>\n",
              "      <th>accuracy</th>\n",
              "      <th>error_rate</th>\n",
              "      <th>recall</th>\n",
              "      <th>precision</th>\n",
              "      <th>time</th>\n",
              "    </tr>\n",
              "  </thead>\n",
              "  <tbody>\n",
              "    <tr>\n",
              "      <td>0</td>\n",
              "      <td>0.361228</td>\n",
              "      <td>0.298726</td>\n",
              "      <td>0.896904</td>\n",
              "      <td>0.103096</td>\n",
              "      <td>0.844084</td>\n",
              "      <td>0.881204</td>\n",
              "      <td>08:41</td>\n",
              "    </tr>\n",
              "    <tr>\n",
              "      <td>1</td>\n",
              "      <td>0.337806</td>\n",
              "      <td>0.276478</td>\n",
              "      <td>0.902288</td>\n",
              "      <td>0.097712</td>\n",
              "      <td>0.848017</td>\n",
              "      <td>0.873920</td>\n",
              "      <td>08:43</td>\n",
              "    </tr>\n",
              "    <tr>\n",
              "      <td>2</td>\n",
              "      <td>0.324325</td>\n",
              "      <td>0.259110</td>\n",
              "      <td>0.910902</td>\n",
              "      <td>0.089098</td>\n",
              "      <td>0.859995</td>\n",
              "      <td>0.902541</td>\n",
              "      <td>08:43</td>\n",
              "    </tr>\n",
              "    <tr>\n",
              "      <td>3</td>\n",
              "      <td>0.297886</td>\n",
              "      <td>0.259034</td>\n",
              "      <td>0.913863</td>\n",
              "      <td>0.086137</td>\n",
              "      <td>0.858765</td>\n",
              "      <td>0.913425</td>\n",
              "      <td>08:44</td>\n",
              "    </tr>\n",
              "    <tr>\n",
              "      <td>4</td>\n",
              "      <td>0.278188</td>\n",
              "      <td>0.235883</td>\n",
              "      <td>0.920861</td>\n",
              "      <td>0.079139</td>\n",
              "      <td>0.864931</td>\n",
              "      <td>0.902423</td>\n",
              "      <td>08:44</td>\n",
              "    </tr>\n",
              "    <tr>\n",
              "      <td>5</td>\n",
              "      <td>0.249423</td>\n",
              "      <td>0.229312</td>\n",
              "      <td>0.921938</td>\n",
              "      <td>0.078062</td>\n",
              "      <td>0.880406</td>\n",
              "      <td>0.899453</td>\n",
              "      <td>08:47</td>\n",
              "    </tr>\n",
              "    <tr>\n",
              "      <td>6</td>\n",
              "      <td>0.233994</td>\n",
              "      <td>0.222959</td>\n",
              "      <td>0.921938</td>\n",
              "      <td>0.078062</td>\n",
              "      <td>0.893786</td>\n",
              "      <td>0.904498</td>\n",
              "      <td>08:49</td>\n",
              "    </tr>\n",
              "    <tr>\n",
              "      <td>7</td>\n",
              "      <td>0.221344</td>\n",
              "      <td>0.218571</td>\n",
              "      <td>0.926245</td>\n",
              "      <td>0.073755</td>\n",
              "      <td>0.886112</td>\n",
              "      <td>0.909038</td>\n",
              "      <td>08:46</td>\n",
              "    </tr>\n",
              "    <tr>\n",
              "      <td>8</td>\n",
              "      <td>0.206418</td>\n",
              "      <td>0.218575</td>\n",
              "      <td>0.925168</td>\n",
              "      <td>0.074832</td>\n",
              "      <td>0.889176</td>\n",
              "      <td>0.911254</td>\n",
              "      <td>08:50</td>\n",
              "    </tr>\n",
              "    <tr>\n",
              "      <td>9</td>\n",
              "      <td>0.202660</td>\n",
              "      <td>0.216770</td>\n",
              "      <td>0.924899</td>\n",
              "      <td>0.075101</td>\n",
              "      <td>0.892791</td>\n",
              "      <td>0.909006</td>\n",
              "      <td>09:07</td>\n",
              "    </tr>\n",
              "  </tbody>\n",
              "</table>"
            ],
            "text/plain": [
              "<IPython.core.display.HTML object>"
            ]
          },
          "metadata": {
            "tags": []
          }
        }
      ]
    },
    {
      "cell_type": "code",
      "metadata": {
        "id": "TWq4db6yUY9B",
        "colab_type": "code",
        "outputId": "ecdc2787-1080-49c2-8959-cafa001ccba3",
        "colab": {
          "base_uri": "https://localhost:8080/",
          "height": 374
        }
      },
      "source": [
        "learn.unfreeze\n",
        "learn.lr_find()\n",
        "learn.recorder.plot()"
      ],
      "execution_count": 30,
      "outputs": [
        {
          "output_type": "display_data",
          "data": {
            "text/html": [
              "\n",
              "    <div>\n",
              "        <style>\n",
              "            /* Turns off some styling */\n",
              "            progress {\n",
              "                /* gets rid of default border in Firefox and Opera. */\n",
              "                border: none;\n",
              "                /* Needs to be in here for Safari polyfill so background images work as expected. */\n",
              "                background-size: auto;\n",
              "            }\n",
              "            .progress-bar-interrupted, .progress-bar-interrupted::-webkit-progress-bar {\n",
              "                background: #F44336;\n",
              "            }\n",
              "        </style>\n",
              "      <progress value='0' class='' max='1', style='width:300px; height:20px; vertical-align: middle;'></progress>\n",
              "      0.00% [0/1 00:00<00:00]\n",
              "    </div>\n",
              "    \n",
              "<table border=\"1\" class=\"dataframe\">\n",
              "  <thead>\n",
              "    <tr style=\"text-align: left;\">\n",
              "      <th>epoch</th>\n",
              "      <th>train_loss</th>\n",
              "      <th>valid_loss</th>\n",
              "      <th>accuracy</th>\n",
              "      <th>error_rate</th>\n",
              "      <th>recall</th>\n",
              "      <th>precision</th>\n",
              "      <th>time</th>\n",
              "    </tr>\n",
              "  </thead>\n",
              "  <tbody>\n",
              "  </tbody>\n",
              "</table><p>\n",
              "\n",
              "    <div>\n",
              "        <style>\n",
              "            /* Turns off some styling */\n",
              "            progress {\n",
              "                /* gets rid of default border in Firefox and Opera. */\n",
              "                border: none;\n",
              "                /* Needs to be in here for Safari polyfill so background images work as expected. */\n",
              "                background-size: auto;\n",
              "            }\n",
              "            .progress-bar-interrupted, .progress-bar-interrupted::-webkit-progress-bar {\n",
              "                background: #F44336;\n",
              "            }\n",
              "        </style>\n",
              "      <progress value='79' class='' max='232', style='width:300px; height:20px; vertical-align: middle;'></progress>\n",
              "      34.05% [79/232 02:33<04:56 0.5765]\n",
              "    </div>\n",
              "    "
            ],
            "text/plain": [
              "<IPython.core.display.HTML object>"
            ]
          },
          "metadata": {
            "tags": []
          }
        },
        {
          "output_type": "stream",
          "text": [
            "LR Finder is complete, type {learner_name}.recorder.plot() to see the graph.\n"
          ],
          "name": "stdout"
        },
        {
          "output_type": "display_data",
          "data": {
            "image/png": "[encoded data removed]",
            "text/plain": [
              "<Figure size 432x288 with 1 Axes>"
            ]
          },
          "metadata": {
            "tags": []
          }
        }
      ]
    },
    {
      "cell_type": "code",
      "metadata": {
        "id": "aUJIeYH5a1mT",
        "colab_type": "code",
        "outputId": "3484ac07-5c39-4f0c-e739-0221530a7029",
        "colab": {
          "base_uri": "https://localhost:8080/",
          "height": 204
        }
      },
      "source": [
        "learn.fit_one_cycle(5,1e-3)"
      ],
      "execution_count": 31,
      "outputs": [
        {
          "output_type": "display_data",
          "data": {
            "text/html": [
              "<table border=\"1\" class=\"dataframe\">\n",
              "  <thead>\n",
              "    <tr style=\"text-align: left;\">\n",
              "      <th>epoch</th>\n",
              "      <th>train_loss</th>\n",
              "      <th>valid_loss</th>\n",
              "      <th>accuracy</th>\n",
              "      <th>error_rate</th>\n",
              "      <th>recall</th>\n",
              "      <th>precision</th>\n",
              "      <th>time</th>\n",
              "    </tr>\n",
              "  </thead>\n",
              "  <tbody>\n",
              "    <tr>\n",
              "      <td>0</td>\n",
              "      <td>0.227495</td>\n",
              "      <td>0.222187</td>\n",
              "      <td>0.922207</td>\n",
              "      <td>0.077793</td>\n",
              "      <td>0.884253</td>\n",
              "      <td>0.909252</td>\n",
              "      <td>09:05</td>\n",
              "    </tr>\n",
              "    <tr>\n",
              "      <td>1</td>\n",
              "      <td>0.229381</td>\n",
              "      <td>0.230591</td>\n",
              "      <td>0.919246</td>\n",
              "      <td>0.080754</td>\n",
              "      <td>0.865774</td>\n",
              "      <td>0.901927</td>\n",
              "      <td>09:02</td>\n",
              "    </tr>\n",
              "    <tr>\n",
              "      <td>2</td>\n",
              "      <td>0.228176</td>\n",
              "      <td>0.219031</td>\n",
              "      <td>0.929206</td>\n",
              "      <td>0.070794</td>\n",
              "      <td>0.888554</td>\n",
              "      <td>0.920359</td>\n",
              "      <td>09:04</td>\n",
              "    </tr>\n",
              "    <tr>\n",
              "      <td>3</td>\n",
              "      <td>0.206521</td>\n",
              "      <td>0.211796</td>\n",
              "      <td>0.928129</td>\n",
              "      <td>0.071871</td>\n",
              "      <td>0.894573</td>\n",
              "      <td>0.917302</td>\n",
              "      <td>09:02</td>\n",
              "    </tr>\n",
              "    <tr>\n",
              "      <td>4</td>\n",
              "      <td>0.182447</td>\n",
              "      <td>0.206900</td>\n",
              "      <td>0.928937</td>\n",
              "      <td>0.071063</td>\n",
              "      <td>0.893766</td>\n",
              "      <td>0.920509</td>\n",
              "      <td>09:08</td>\n",
              "    </tr>\n",
              "  </tbody>\n",
              "</table>"
            ],
            "text/plain": [
              "<IPython.core.display.HTML object>"
            ]
          },
          "metadata": {
            "tags": []
          }
        }
      ]
    },
    {
      "cell_type": "code",
      "metadata": {
        "id": "9r_9c9LibrOp",
        "colab_type": "code",
        "colab": {}
      },
      "source": [
        "learn.save('128sz')"
      ],
      "execution_count": 0,
      "outputs": []
    },
    {
      "cell_type": "markdown",
      "metadata": {
        "id": "h-qpiOYA2DYE",
        "colab_type": "text"
      },
      "source": [
        "# Increasing the image size to 224 pixels"
      ]
    },
    {
      "cell_type": "code",
      "metadata": {
        "id": "VwsXgaYy2LWO",
        "colab_type": "code",
        "colab": {}
      },
      "source": [
        "size = 224"
      ],
      "execution_count": 0,
      "outputs": []
    },
    {
      "cell_type": "code",
      "metadata": {
        "id": "8uYN2Pnrk8TN",
        "colab_type": "code",
        "colab": {
          "base_uri": "https://localhost:8080/",
          "height": 34
        },
        "outputId": "c6b704e3-98b8-4971-f602-b07353d74c45"
      },
      "source": [
        "data = (src\n",
        "        .transform(tfms, size=size)\n",
        "        .databunch()\n",
        "        .normalize(imagenet_stats))\n",
        "\n",
        "learn.data = data\n",
        "data.train_ds[0][0].shape"
      ],
      "execution_count": 34,
      "outputs": [
        {
          "output_type": "execute_result",
          "data": {
            "text/plain": [
              "torch.Size([3, 224, 224])"
            ]
          },
          "metadata": {
            "tags": []
          },
          "execution_count": 34
        }
      ]
    },
    {
      "cell_type": "code",
      "metadata": {
        "id": "zw9hwThylNz7",
        "colab_type": "code",
        "outputId": "4047102c-633f-4dfb-e320-f3f33889fc57",
        "colab": {
          "base_uri": "https://localhost:8080/",
          "height": 377
        }
      },
      "source": [
        "learn.freeze\n",
        "learn.lr_find()\n",
        "learn.recorder.plot()"
      ],
      "execution_count": 35,
      "outputs": [
        {
          "output_type": "display_data",
          "data": {
            "text/html": [
              "\n",
              "    <div>\n",
              "        <style>\n",
              "            /* Turns off some styling */\n",
              "            progress {\n",
              "                /* gets rid of default border in Firefox and Opera. */\n",
              "                border: none;\n",
              "                /* Needs to be in here for Safari polyfill so background images work as expected. */\n",
              "                background-size: auto;\n",
              "            }\n",
              "            .progress-bar-interrupted, .progress-bar-interrupted::-webkit-progress-bar {\n",
              "                background: #F44336;\n",
              "            }\n",
              "        </style>\n",
              "      <progress value='0' class='' max='1', style='width:300px; height:20px; vertical-align: middle;'></progress>\n",
              "      0.00% [0/1 00:00<00:00]\n",
              "    </div>\n",
              "    \n",
              "<table border=\"1\" class=\"dataframe\">\n",
              "  <thead>\n",
              "    <tr style=\"text-align: left;\">\n",
              "      <th>epoch</th>\n",
              "      <th>train_loss</th>\n",
              "      <th>valid_loss</th>\n",
              "      <th>accuracy</th>\n",
              "      <th>error_rate</th>\n",
              "      <th>recall</th>\n",
              "      <th>precision</th>\n",
              "      <th>time</th>\n",
              "    </tr>\n",
              "  </thead>\n",
              "  <tbody>\n",
              "  </tbody>\n",
              "</table><p>\n",
              "\n",
              "    <div>\n",
              "        <style>\n",
              "            /* Turns off some styling */\n",
              "            progress {\n",
              "                /* gets rid of default border in Firefox and Opera. */\n",
              "                border: none;\n",
              "                /* Needs to be in here for Safari polyfill so background images work as expected. */\n",
              "                background-size: auto;\n",
              "            }\n",
              "            .progress-bar-interrupted, .progress-bar-interrupted::-webkit-progress-bar {\n",
              "                background: #F44336;\n",
              "            }\n",
              "        </style>\n",
              "      <progress value='80' class='' max='232', style='width:300px; height:20px; vertical-align: middle;'></progress>\n",
              "      34.48% [80/232 03:34<06:48 0.7329]\n",
              "    </div>\n",
              "    "
            ],
            "text/plain": [
              "<IPython.core.display.HTML object>"
            ]
          },
          "metadata": {
            "tags": []
          }
        },
        {
          "output_type": "stream",
          "text": [
            "LR Finder is complete, type {learner_name}.recorder.plot() to see the graph.\n"
          ],
          "name": "stdout"
        },
        {
          "output_type": "display_data",
          "data": {
            "image/png": "[encoded data removed]",
            "text/plain": [
              "<Figure size 432x288 with 1 Axes>"
            ]
          },
          "metadata": {
            "tags": []
          }
        }
      ]
    },
    {
      "cell_type": "code",
      "metadata": {
        "id": "wv1nHF81lYnr",
        "colab_type": "code",
        "outputId": "6fc9dc31-6007-472b-c129-227c8d307c55",
        "colab": {
          "base_uri": "https://localhost:8080/",
          "height": 359
        }
      },
      "source": [
        "learn.fit_one_cycle(10,5e-4)"
      ],
      "execution_count": 36,
      "outputs": [
        {
          "output_type": "display_data",
          "data": {
            "text/html": [
              "<table border=\"1\" class=\"dataframe\">\n",
              "  <thead>\n",
              "    <tr style=\"text-align: left;\">\n",
              "      <th>epoch</th>\n",
              "      <th>train_loss</th>\n",
              "      <th>valid_loss</th>\n",
              "      <th>accuracy</th>\n",
              "      <th>error_rate</th>\n",
              "      <th>recall</th>\n",
              "      <th>precision</th>\n",
              "      <th>time</th>\n",
              "    </tr>\n",
              "  </thead>\n",
              "  <tbody>\n",
              "    <tr>\n",
              "      <td>0</td>\n",
              "      <td>0.275738</td>\n",
              "      <td>0.235986</td>\n",
              "      <td>0.922746</td>\n",
              "      <td>0.077254</td>\n",
              "      <td>0.886405</td>\n",
              "      <td>0.918146</td>\n",
              "      <td>12:19</td>\n",
              "    </tr>\n",
              "    <tr>\n",
              "      <td>1</td>\n",
              "      <td>0.245934</td>\n",
              "      <td>0.210333</td>\n",
              "      <td>0.928398</td>\n",
              "      <td>0.071602</td>\n",
              "      <td>0.891616</td>\n",
              "      <td>0.920659</td>\n",
              "      <td>12:31</td>\n",
              "    </tr>\n",
              "    <tr>\n",
              "      <td>2</td>\n",
              "      <td>0.223977</td>\n",
              "      <td>0.205894</td>\n",
              "      <td>0.930283</td>\n",
              "      <td>0.069717</td>\n",
              "      <td>0.886469</td>\n",
              "      <td>0.929831</td>\n",
              "      <td>12:36</td>\n",
              "    </tr>\n",
              "    <tr>\n",
              "      <td>3</td>\n",
              "      <td>0.199656</td>\n",
              "      <td>0.208519</td>\n",
              "      <td>0.932167</td>\n",
              "      <td>0.067833</td>\n",
              "      <td>0.901303</td>\n",
              "      <td>0.924534</td>\n",
              "      <td>12:16</td>\n",
              "    </tr>\n",
              "    <tr>\n",
              "      <td>4</td>\n",
              "      <td>0.204565</td>\n",
              "      <td>0.196694</td>\n",
              "      <td>0.936205</td>\n",
              "      <td>0.063795</td>\n",
              "      <td>0.904213</td>\n",
              "      <td>0.930101</td>\n",
              "      <td>12:16</td>\n",
              "    </tr>\n",
              "    <tr>\n",
              "      <td>5</td>\n",
              "      <td>0.182336</td>\n",
              "      <td>0.188000</td>\n",
              "      <td>0.939166</td>\n",
              "      <td>0.060834</td>\n",
              "      <td>0.908101</td>\n",
              "      <td>0.935964</td>\n",
              "      <td>12:38</td>\n",
              "    </tr>\n",
              "    <tr>\n",
              "      <td>6</td>\n",
              "      <td>0.168189</td>\n",
              "      <td>0.183197</td>\n",
              "      <td>0.940242</td>\n",
              "      <td>0.059758</td>\n",
              "      <td>0.911268</td>\n",
              "      <td>0.932325</td>\n",
              "      <td>12:51</td>\n",
              "    </tr>\n",
              "    <tr>\n",
              "      <td>7</td>\n",
              "      <td>0.153581</td>\n",
              "      <td>0.180107</td>\n",
              "      <td>0.940242</td>\n",
              "      <td>0.059758</td>\n",
              "      <td>0.905003</td>\n",
              "      <td>0.934357</td>\n",
              "      <td>12:57</td>\n",
              "    </tr>\n",
              "    <tr>\n",
              "      <td>8</td>\n",
              "      <td>0.145540</td>\n",
              "      <td>0.178653</td>\n",
              "      <td>0.941050</td>\n",
              "      <td>0.058950</td>\n",
              "      <td>0.912015</td>\n",
              "      <td>0.935386</td>\n",
              "      <td>12:50</td>\n",
              "    </tr>\n",
              "    <tr>\n",
              "      <td>9</td>\n",
              "      <td>0.144444</td>\n",
              "      <td>0.178669</td>\n",
              "      <td>0.941319</td>\n",
              "      <td>0.058681</td>\n",
              "      <td>0.915312</td>\n",
              "      <td>0.939861</td>\n",
              "      <td>12:38</td>\n",
              "    </tr>\n",
              "  </tbody>\n",
              "</table>"
            ],
            "text/plain": [
              "<IPython.core.display.HTML object>"
            ]
          },
          "metadata": {
            "tags": []
          }
        }
      ]
    },
    {
      "cell_type": "code",
      "metadata": {
        "id": "J4CnA-BHlfcO",
        "colab_type": "code",
        "outputId": "9e111823-abc2-46d3-9dd7-543ffcafd3b5",
        "colab": {
          "base_uri": "https://localhost:8080/",
          "height": 374
        }
      },
      "source": [
        "learn.unfreeze\n",
        "learn.lr_find()\n",
        "learn.recorder.plot()"
      ],
      "execution_count": 37,
      "outputs": [
        {
          "output_type": "display_data",
          "data": {
            "text/html": [
              "\n",
              "    <div>\n",
              "        <style>\n",
              "            /* Turns off some styling */\n",
              "            progress {\n",
              "                /* gets rid of default border in Firefox and Opera. */\n",
              "                border: none;\n",
              "                /* Needs to be in here for Safari polyfill so background images work as expected. */\n",
              "                background-size: auto;\n",
              "            }\n",
              "            .progress-bar-interrupted, .progress-bar-interrupted::-webkit-progress-bar {\n",
              "                background: #F44336;\n",
              "            }\n",
              "        </style>\n",
              "      <progress value='0' class='' max='1', style='width:300px; height:20px; vertical-align: middle;'></progress>\n",
              "      0.00% [0/1 00:00<00:00]\n",
              "    </div>\n",
              "    \n",
              "<table border=\"1\" class=\"dataframe\">\n",
              "  <thead>\n",
              "    <tr style=\"text-align: left;\">\n",
              "      <th>epoch</th>\n",
              "      <th>train_loss</th>\n",
              "      <th>valid_loss</th>\n",
              "      <th>accuracy</th>\n",
              "      <th>error_rate</th>\n",
              "      <th>recall</th>\n",
              "      <th>precision</th>\n",
              "      <th>time</th>\n",
              "    </tr>\n",
              "  </thead>\n",
              "  <tbody>\n",
              "  </tbody>\n",
              "</table><p>\n",
              "\n",
              "    <div>\n",
              "        <style>\n",
              "            /* Turns off some styling */\n",
              "            progress {\n",
              "                /* gets rid of default border in Firefox and Opera. */\n",
              "                border: none;\n",
              "                /* Needs to be in here for Safari polyfill so background images work as expected. */\n",
              "                background-size: auto;\n",
              "            }\n",
              "            .progress-bar-interrupted, .progress-bar-interrupted::-webkit-progress-bar {\n",
              "                background: #F44336;\n",
              "            }\n",
              "        </style>\n",
              "      <progress value='77' class='' max='232', style='width:300px; height:20px; vertical-align: middle;'></progress>\n",
              "      33.19% [77/232 03:23<06:49 0.4588]\n",
              "    </div>\n",
              "    "
            ],
            "text/plain": [
              "<IPython.core.display.HTML object>"
            ]
          },
          "metadata": {
            "tags": []
          }
        },
        {
          "output_type": "stream",
          "text": [
            "LR Finder is complete, type {learner_name}.recorder.plot() to see the graph.\n"
          ],
          "name": "stdout"
        },
        {
          "output_type": "display_data",
          "data": {
            "image/png": "[encoded data removed]",
            "text/plain": [
              "<Figure size 432x288 with 1 Axes>"
            ]
          },
          "metadata": {
            "tags": []
          }
        }
      ]
    },
    {
      "cell_type": "code",
      "metadata": {
        "id": "ZYRm7r9XlkHI",
        "colab_type": "code",
        "outputId": "6d43141e-c2bd-4175-a71c-5dee69bd9d66",
        "colab": {
          "base_uri": "https://localhost:8080/",
          "height": 204
        }
      },
      "source": [
        "learn.fit_one_cycle(5,1e-3)"
      ],
      "execution_count": 38,
      "outputs": [
        {
          "output_type": "display_data",
          "data": {
            "text/html": [
              "<table border=\"1\" class=\"dataframe\">\n",
              "  <thead>\n",
              "    <tr style=\"text-align: left;\">\n",
              "      <th>epoch</th>\n",
              "      <th>train_loss</th>\n",
              "      <th>valid_loss</th>\n",
              "      <th>accuracy</th>\n",
              "      <th>error_rate</th>\n",
              "      <th>recall</th>\n",
              "      <th>precision</th>\n",
              "      <th>time</th>\n",
              "    </tr>\n",
              "  </thead>\n",
              "  <tbody>\n",
              "    <tr>\n",
              "      <td>0</td>\n",
              "      <td>0.161116</td>\n",
              "      <td>0.197813</td>\n",
              "      <td>0.936205</td>\n",
              "      <td>0.063795</td>\n",
              "      <td>0.898187</td>\n",
              "      <td>0.930075</td>\n",
              "      <td>12:16</td>\n",
              "    </tr>\n",
              "    <tr>\n",
              "      <td>1</td>\n",
              "      <td>0.178131</td>\n",
              "      <td>0.199773</td>\n",
              "      <td>0.936474</td>\n",
              "      <td>0.063526</td>\n",
              "      <td>0.906569</td>\n",
              "      <td>0.932719</td>\n",
              "      <td>12:19</td>\n",
              "    </tr>\n",
              "    <tr>\n",
              "      <td>2</td>\n",
              "      <td>0.160498</td>\n",
              "      <td>0.189080</td>\n",
              "      <td>0.940781</td>\n",
              "      <td>0.059219</td>\n",
              "      <td>0.904749</td>\n",
              "      <td>0.939237</td>\n",
              "      <td>12:30</td>\n",
              "    </tr>\n",
              "    <tr>\n",
              "      <td>3</td>\n",
              "      <td>0.145075</td>\n",
              "      <td>0.167107</td>\n",
              "      <td>0.945087</td>\n",
              "      <td>0.054913</td>\n",
              "      <td>0.917173</td>\n",
              "      <td>0.939743</td>\n",
              "      <td>12:41</td>\n",
              "    </tr>\n",
              "    <tr>\n",
              "      <td>4</td>\n",
              "      <td>0.127160</td>\n",
              "      <td>0.166720</td>\n",
              "      <td>0.945357</td>\n",
              "      <td>0.054643</td>\n",
              "      <td>0.917709</td>\n",
              "      <td>0.941601</td>\n",
              "      <td>12:33</td>\n",
              "    </tr>\n",
              "  </tbody>\n",
              "</table>"
            ],
            "text/plain": [
              "<IPython.core.display.HTML object>"
            ]
          },
          "metadata": {
            "tags": []
          }
        }
      ]
    },
    {
      "cell_type": "code",
      "metadata": {
        "id": "ALiDQrrMloS1",
        "colab_type": "code",
        "colab": {}
      },
      "source": [
        "learn.save('224sz')"
      ],
      "execution_count": 0,
      "outputs": []
    },
    {
      "cell_type": "code",
      "metadata": {
        "id": "K4oo9cD2fX9_",
        "colab_type": "code",
        "colab": {}
      },
      "source": [
        ""
      ],
      "execution_count": 0,
      "outputs": []
    }
  ]
}